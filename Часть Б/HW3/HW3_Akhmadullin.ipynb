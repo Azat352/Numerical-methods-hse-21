{
 "cells": [
  {
   "cell_type": "code",
   "execution_count": 1,
   "metadata": {},
   "outputs": [],
   "source": [
    "import numpy as np\n",
    "import matplotlib.pyplot as plt"
   ]
  },
  {
   "cell_type": "markdown",
   "metadata": {},
   "source": [
    "# Задание 3"
   ]
  },
  {
   "cell_type": "code",
   "execution_count": 2,
   "metadata": {},
   "outputs": [
    {
     "data": {
      "text/plain": [
       "<matplotlib.image.AxesImage at 0x7f63ae053ac8>"
      ]
     },
     "execution_count": 2,
     "metadata": {},
     "output_type": "execute_result"
    },
    {
     "data": {
      "image/png": "[encoded data removed]",
      "text/plain": [
       "<Figure size 432x288 with 1 Axes>"
      ]
     },
     "metadata": {
      "needs_background": "light"
     },
     "output_type": "display_data"
    }
   ],
   "source": [
    "#3\n",
    "a = np.zeros((15, 28))\n",
    "#В\n",
    "a[2: -2 ,1] = 1; a[2 ,2:6] = 1\n",
    "a[2:7 ,6] = 1; a[7: -2 ,7] = 1\n",
    "a[7 ,2:7] = 1; a[ -3 ,2:7] = 1\n",
    "\n",
    "#Ш\n",
    "a[2: -2, 10] = 1; a[2: -2,14] = 1;\n",
    "a[2: -2, 18] = 1; a[-3,10:19] = 1\n",
    "\n",
    "#Э\n",
    "a[2, 21:27] = 1\n",
    "a[7, 21:27] = 1\n",
    "a[12, 21:27] = 1\n",
    "a[2:13, 26] = 1\n",
    "\n",
    "plt.imshow(a)"
   ]
  },
  {
   "cell_type": "code",
   "execution_count": 3,
   "metadata": {},
   "outputs": [
    {
     "data": {
      "text/plain": [
       "5"
      ]
     },
     "execution_count": 3,
     "metadata": {},
     "output_type": "execute_result"
    }
   ],
   "source": [
    "np.linalg.matrix_rank(a)"
   ]
  },
  {
   "cell_type": "code",
   "execution_count": 4,
   "metadata": {},
   "outputs": [
    {
     "name": "stdout",
     "output_type": "stream",
     "text": [
      "S [8.65821175e+00 4.21505898e+00 2.18518482e+00 1.81299689e+00\n",
      " 4.54595131e-01 3.29870361e-16 2.07512873e-16 9.72341658e-17\n",
      " 8.74200380e-17 2.33806551e-17 4.21590086e-33 9.03187742e-49\n",
      " 0.00000000e+00 0.00000000e+00 0.00000000e+00]\n"
     ]
    }
   ],
   "source": [
    "u, s, v = np.linalg.svd(a)\n",
    "print(\"S\", s)"
   ]
  },
  {
   "cell_type": "code",
   "execution_count": 5,
   "metadata": {},
   "outputs": [
    {
     "data": {
      "image/png": "[encoded data removed]",
      "text/plain": [
       "<Figure size 2016x2016 with 5 Axes>"
      ]
     },
     "metadata": {
      "needs_background": "light"
     },
     "output_type": "display_data"
    }
   ],
   "source": [
    "fig, ax = plt.subplots(1, 5)\n",
    "fig.set_figwidth(28)\n",
    "fig.set_figheight(28)\n",
    "for i in range(5):\n",
    "    k = i + 1\n",
    "    uk = u[:,:k] \n",
    "    vk = v[:k,:]\n",
    "    ak = uk @ np.diag(s[:k]) @ vk\n",
    "    ax[i].imshow(ak)"
   ]
  },
  {
   "cell_type": "code",
   "execution_count": 6,
   "metadata": {},
   "outputs": [
    {
     "name": "stdout",
     "output_type": "stream",
     "text": [
      "[2.35363603 0.03034736 0.6160166 ]\n"
     ]
    },
    {
     "data": {
      "text/plain": [
       "array([ 2.29672779, -0.00735244,  0.71062465])"
      ]
     },
     "execution_count": 6,
     "metadata": {},
     "output_type": "execute_result"
    }
   ],
   "source": [
    "#5\n",
    "c = np.array([[1, 0.9, 0.7],\n",
    "              [0.9, 1, 0.4],\n",
    "              [0.7, 0.4, 1]])\n",
    "c_1 = np.array(c, copy=True, dtype = float)\n",
    "c_1[1, 2] = 0.3\n",
    "c_1[2, 1] = 0.3\n",
    "print(np.linalg.eigvals(c))\n",
    "np.linalg.eigvals(c_1)"
   ]
  },
  {
   "cell_type": "code",
   "execution_count": 7,
   "metadata": {},
   "outputs": [],
   "source": [
    "def get_cor(c):\n",
    "    w, v = np.linalg.eig(c)\n",
    "    for e in w:\n",
    "        if e < 0:\n",
    "            e = 0\n",
    "    \n",
    "    b = np.zeros(v.shape)\n",
    "    for i in range(v.shape[1]):\n",
    "        b[:, i] = v[:, i] * w[i]\n",
    "    \n",
    "    for i in range(v.shape[0]):\n",
    "        b[i, :] = b[i, :] / np.linalg.norm(b[i, :])\n",
    "    return b @ b.T"
   ]
  },
  {
   "cell_type": "code",
   "execution_count": 8,
   "metadata": {},
   "outputs": [
    {
     "data": {
      "text/plain": [
       "array([[1.        , 0.9615134 , 0.87604015],\n",
       "       [0.9615134 , 1.        , 0.70990424],\n",
       "       [0.87604015, 0.70990424, 1.        ]])"
      ]
     },
     "execution_count": 8,
     "metadata": {},
     "output_type": "execute_result"
    }
   ],
   "source": [
    "c_2 = get_cor(c_1)\n",
    "c_2"
   ]
  },
  {
   "cell_type": "code",
   "execution_count": 9,
   "metadata": {},
   "outputs": [
    {
     "data": {
      "text/plain": [
       "array([2.70246667e+00, 2.59397546e-05, 2.97507391e-01])"
      ]
     },
     "execution_count": 9,
     "metadata": {},
     "output_type": "execute_result"
    }
   ],
   "source": [
    "np.linalg.eigvals(c_2)"
   ]
  },
  {
   "cell_type": "code",
   "execution_count": 10,
   "metadata": {},
   "outputs": [
    {
     "name": "stdout",
     "output_type": "stream",
     "text": [
      "[[0.         0.0615134  0.17604015]\n",
      " [0.0615134  0.         0.40990424]\n",
      " [0.17604015 0.40990424 0.        ]]\n"
     ]
    }
   ],
   "source": [
    "print(c_2 - c_1)"
   ]
  },
  {
   "cell_type": "markdown",
   "metadata": {},
   "source": [
    "# Задание 4"
   ]
  },
  {
   "cell_type": "code",
   "execution_count": 11,
   "metadata": {},
   "outputs": [
    {
     "data": {
      "text/plain": [
       "array([[9.5, 8.5, 7.5, 6.5, 5.5, 4.5, 3.5, 2.5, 1.5, 0.5],\n",
       "       [1. , 1. , 1. , 1. , 1. , 1. , 1. , 1. , 1. , 1. ]])"
      ]
     },
     "execution_count": 11,
     "metadata": {},
     "output_type": "execute_result"
    }
   ],
   "source": [
    "#4 \n",
    "a = np.zeros((2, 10))\n",
    "for i in range(10):\n",
    "    a[:, i] = np.array([(19 - 2*i) / 2, 1])\n",
    "a"
   ]
  },
  {
   "cell_type": "code",
   "execution_count": 14,
   "metadata": {},
   "outputs": [
    {
     "name": "stdout",
     "output_type": "stream",
     "text": [
      "U [[-0.98872048 -0.14977252]\n",
      " [-0.14977252  0.98872048]]\n",
      "S [18.44109698  1.55754364]\n",
      "V (10, 10)\n"
     ]
    }
   ],
   "source": [
    "u, s, v = np.linalg.svd(a)\n",
    "print(\"U\", u)\n",
    "print(\"S\", s)\n",
    "print(\"V\", v.shape)"
   ]
  },
  {
   "cell_type": "code",
   "execution_count": 18,
   "metadata": {},
   "outputs": [],
   "source": [
    "s_inv = np.zeros((10, 2))\n",
    "s_inv[0, 0] = 1 / s[0]\n",
    "s_inv[1, 1] = 1 / s[1]\n",
    "a_inv = v.T @ s_inv @ u.T"
   ]
  },
  {
   "cell_type": "code",
   "execution_count": 19,
   "metadata": {},
   "outputs": [
    {
     "data": {
      "text/plain": [
       "array([[ 0.05454545, -0.17272727],\n",
       "       [ 0.04242424, -0.11212121],\n",
       "       [ 0.03030303, -0.05151515],\n",
       "       [ 0.01818182,  0.00909091],\n",
       "       [ 0.00606061,  0.06969697],\n",
       "       [-0.00606061,  0.13030303],\n",
       "       [-0.01818182,  0.19090909],\n",
       "       [-0.03030303,  0.25151515],\n",
       "       [-0.04242424,  0.31212121],\n",
       "       [-0.05454545,  0.37272727]])"
      ]
     },
     "execution_count": 19,
     "metadata": {},
     "output_type": "execute_result"
    }
   ],
   "source": [
    "a_inv"
   ]
  },
  {
   "cell_type": "code",
   "execution_count": 20,
   "metadata": {},
   "outputs": [
    {
     "data": {
      "text/plain": [
       "array([[ 1.00000000e+00,  6.38378239e-16],\n",
       "       [-6.93889390e-18,  1.00000000e+00]])"
      ]
     },
     "execution_count": 20,
     "metadata": {},
     "output_type": "execute_result"
    }
   ],
   "source": [
    "a @ a_inv"
   ]
  },
  {
   "cell_type": "code",
   "execution_count": null,
   "metadata": {},
   "outputs": [],
   "source": []
  }
 ],
 "metadata": {
  "kernelspec": {
   "display_name": "Python 3",
   "language": "python",
   "name": "python3"
  },
  "language_info": {
   "codemirror_mode": {
    "name": "ipython",
    "version": 3
   },
   "file_extension": ".py",
   "mimetype": "text/x-python",
   "name": "python",
   "nbconvert_exporter": "python",
   "pygments_lexer": "ipython3",
   "version": "3.6.12"
  }
 },
 "nbformat": 4,
 "nbformat_minor": 4
}
