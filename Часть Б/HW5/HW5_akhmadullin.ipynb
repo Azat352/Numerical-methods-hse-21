{
 "cells": [
  {
   "cell_type": "code",
   "execution_count": 1,
   "metadata": {},
   "outputs": [],
   "source": [
    "import numpy as np\n",
    "import matplotlib.pyplot as plt"
   ]
  },
  {
   "cell_type": "markdown",
   "metadata": {},
   "source": [
    "# Задание 1"
   ]
  },
  {
   "cell_type": "code",
   "execution_count": 2,
   "metadata": {},
   "outputs": [],
   "source": [
    "#1\n",
    "def first(x0=1., eps=1e-6, maxiter=100):\n",
    "    niter = 0\n",
    "    x = x0\n",
    "    for i in range(maxiter):\n",
    "        niter += 1\n",
    "        x1 = x\n",
    "        x = x1 + (np.cos(x1) + 1) / np.sin(x1)\n",
    "        if abs(x - x1) < eps:\n",
    "            break\n",
    "    return x, niter"
   ]
  },
  {
   "cell_type": "code",
   "execution_count": 3,
   "metadata": {},
   "outputs": [
    {
     "data": {
      "text/plain": [
       "1.723066134218243e-13"
      ]
     },
     "execution_count": 3,
     "metadata": {},
     "output_type": "execute_result"
    }
   ],
   "source": [
    "f1 = lambda x: 1 + np.cos(x)\n",
    "x1, niter1 = first()\n",
    "f1(x1)"
   ]
  },
  {
   "cell_type": "code",
   "execution_count": 4,
   "metadata": {},
   "outputs": [
    {
     "name": "stderr",
     "output_type": "stream",
     "text": [
      "/home/azat/.local/lib/python3.6/site-packages/ipykernel_launcher.py:6: RuntimeWarning: divide by zero encountered in log\n",
      "  \n"
     ]
    },
    {
     "data": {
      "image/png": "[encoded data removed]",
      "text/plain": [
       "<Figure size 432x288 with 1 Axes>"
      ]
     },
     "metadata": {
      "needs_background": "light"
     },
     "output_type": "display_data"
    }
   ],
   "source": [
    "\n",
    "niter1\n",
    "n = np.arange(1, niter1 + 1)\n",
    "err = []\n",
    "for i in n:\n",
    "    xx, niter = first(maxiter=i)\n",
    "    err.append(np.log(abs(x1 - xx)))\n",
    "plt.plot(n, err)\n",
    "plt.grid(True)\n",
    "plt.xlabel(\"num of iter\")\n",
    "plt.ylabel(\"error\")\n",
    "plt.show()"
   ]
  },
  {
   "cell_type": "code",
   "execution_count": 5,
   "metadata": {},
   "outputs": [],
   "source": [
    "def second(x0=1., eps=1e-5, maxiter=100):\n",
    "    niter = 0\n",
    "    x = x0\n",
    "    for i in range(maxiter):\n",
    "        niter += 1\n",
    "        x1 = x\n",
    "        x = 1/2 * (x1 + 2/x1)\n",
    "        if abs(x - x1) < eps:\n",
    "            break\n",
    "    return x, niter"
   ]
  },
  {
   "cell_type": "code",
   "execution_count": 6,
   "metadata": {},
   "outputs": [
    {
     "data": {
      "text/plain": [
       "4.510614104447086e-12"
      ]
     },
     "execution_count": 6,
     "metadata": {},
     "output_type": "execute_result"
    }
   ],
   "source": [
    "f2 = lambda x: x*x - 2\n",
    "x2, niter2 = second()\n",
    "f2(x2)"
   ]
  },
  {
   "cell_type": "code",
   "execution_count": 7,
   "metadata": {},
   "outputs": [
    {
     "name": "stderr",
     "output_type": "stream",
     "text": [
      "/home/azat/.local/lib/python3.6/site-packages/ipykernel_launcher.py:5: RuntimeWarning: divide by zero encountered in log\n",
      "  \"\"\"\n"
     ]
    },
    {
     "data": {
      "image/png": "[encoded data removed]",
      "text/plain": [
       "<Figure size 432x288 with 1 Axes>"
      ]
     },
     "metadata": {
      "needs_background": "light"
     },
     "output_type": "display_data"
    }
   ],
   "source": [
    "n2 = np.arange(1, niter2 + 1)\n",
    "err2 = []\n",
    "for i in n2:\n",
    "    xx, niter = second(maxiter = i)\n",
    "    err2.append(np.log(abs(xx - x2)))\n",
    "plt.plot(n2, err2)\n",
    "plt.grid(True)\n",
    "plt.xlabel(\"num of iter\")\n",
    "plt.ylabel(\"err\")\n",
    "plt.show()"
   ]
  },
  {
   "cell_type": "markdown",
   "metadata": {},
   "source": [
    "# Задание 2"
   ]
  },
  {
   "cell_type": "code",
   "execution_count": 8,
   "metadata": {},
   "outputs": [],
   "source": [
    "#2\n",
    "rnd = np.random.RandomState(1234)\n",
    "n = 10\n",
    "A = rnd.uniform(size=(n, n)) + np.diag([15]*n)\n",
    "b = rnd.uniform(size=n)"
   ]
  },
  {
   "cell_type": "code",
   "execution_count": 9,
   "metadata": {},
   "outputs": [],
   "source": [
    "diag = A.diagonal()\n",
    "D = np.diag(diag)\n",
    "D_inv = np.diag(1/diag)\n",
    "B = D_inv @ (D - A)"
   ]
  },
  {
   "cell_type": "code",
   "execution_count": 10,
   "metadata": {},
   "outputs": [
    {
     "data": {
      "text/plain": [
       "0.31853784252598116"
      ]
     },
     "execution_count": 10,
     "metadata": {},
     "output_type": "execute_result"
    }
   ],
   "source": [
    "B_norm = np.linalg.norm(B, ord=2)\n",
    "B_norm"
   ]
  },
  {
   "cell_type": "code",
   "execution_count": 11,
   "metadata": {},
   "outputs": [],
   "source": [
    "def jacobi_iter(A, b, x0, eps=1e-5, maxiter=500):\n",
    "    x = x0.copy()\n",
    "    nit = 0\n",
    "    diag = A.diagonal()\n",
    "    D = np.diag(diag)\n",
    "    D_inv = np.diag(1/diag)\n",
    "    B = D_inv @ (D - A)\n",
    "    for i in range(maxiter):\n",
    "        nit += 1\n",
    "        x1 = x.copy()\n",
    "        x = B @ x1 + D_inv @ b\n",
    "        if np.linalg.norm(x - x1) < eps:\n",
    "            break\n",
    "    return x, nit"
   ]
  },
  {
   "cell_type": "code",
   "execution_count": 12,
   "metadata": {},
   "outputs": [
    {
     "data": {
      "text/plain": [
       "array([ 0.03919429,  0.03780037,  0.04283232,  0.02365951,  0.05745031,\n",
       "       -0.00030244, -0.00577279,  0.03177549, -0.00422849,  0.05284648])"
      ]
     },
     "execution_count": 12,
     "metadata": {},
     "output_type": "execute_result"
    }
   ],
   "source": [
    "x0 = np.ones(n)\n",
    "xx, niter = jacobi_iter(A, b, x0, eps=1e-10)\n",
    "xx"
   ]
  },
  {
   "cell_type": "code",
   "execution_count": 13,
   "metadata": {},
   "outputs": [
    {
     "data": {
      "text/plain": [
       "array([7.62331309e-11, 6.65593136e-11, 6.30350216e-11, 7.85705945e-11,\n",
       "       4.14165369e-11, 6.66706690e-11, 4.21568787e-11, 5.15576470e-11,\n",
       "       6.96806224e-11, 6.05883121e-11])"
      ]
     },
     "execution_count": 13,
     "metadata": {},
     "output_type": "execute_result"
    }
   ],
   "source": [
    "abs(A @ xx - b)"
   ]
  },
  {
   "cell_type": "code",
   "execution_count": 14,
   "metadata": {},
   "outputs": [
    {
     "name": "stdout",
     "output_type": "stream",
     "text": [
      "Diag val:  14\n",
      "2-norm of B 0.3406178896769193\n",
      "inf norm of B 0.4250216549874149\n",
      "Num of iter:  13\n",
      "Converges\n",
      "\n",
      "Diag val:  13\n",
      "2-norm of B 0.36598918272357145\n",
      "inf norm of B 0.45735802101261736\n",
      "Num of iter:  14\n",
      "Converges\n",
      "\n",
      "Diag val:  12\n",
      "2-norm of B 0.39544749436992493\n",
      "inf norm of B 0.4950199777696716\n",
      "Num of iter:  15\n",
      "Converges\n",
      "\n",
      "Diag val:  11\n",
      "2-norm of B 0.4300678819915193\n",
      "inf norm of B 0.5394412211037213\n",
      "Num of iter:  16\n",
      "Converges\n",
      "\n",
      "Diag val:  10\n",
      "2-norm of B 0.4713391399140566\n",
      "inf norm of B 0.5926207973337314\n",
      "Num of iter:  18\n",
      "Converges\n",
      "\n",
      "Diag val:  9\n",
      "2-norm of B 0.5213843126934741\n",
      "inf norm of B 0.657432248534008\n",
      "Num of iter:  20\n",
      "Converges\n",
      "\n",
      "Diag val:  8\n",
      "2-norm of B 0.5833393274617781\n",
      "inf norm of B 0.7381605236308574\n",
      "Num of iter:  23\n",
      "Converges\n",
      "\n",
      "Diag val:  7\n",
      "2-norm of B 0.6620402825738391\n",
      "inf norm of B 0.8414898373897813\n",
      "Num of iter:  29\n",
      "Converges\n",
      "\n",
      "Diag val:  6\n",
      "2-norm of B 0.7653600109101562\n",
      "inf norm of B 0.9784562720585108\n",
      "Num of iter:  41\n",
      "Converges\n",
      "\n",
      "Diag val:  5\n",
      "2-norm of B 0.9070463899591017\n",
      "inf norm of B 1.1686780113868387\n",
      "Num of iter:  83\n",
      "Converges\n",
      "\n",
      "Diag val:  4\n",
      "2-norm of B 1.1134977718727903\n",
      "inf norm of B 1.4507107755068966\n",
      "Num of iter:  500\n",
      "Diverges\n",
      "\n",
      "Diag val:  3\n",
      "2-norm of B 1.4428360563572329\n",
      "inf norm of B 1.912167001902092\n",
      "Num of iter:  500\n",
      "Diverges\n",
      "\n",
      "Diag val:  2\n",
      "2-norm of B 2.054236236105385\n",
      "inf norm of B 2.804132947095354\n",
      "Num of iter:  500\n",
      "Diverges\n",
      "\n",
      "Diag val:  1\n",
      "2-norm of B 3.615398202359684\n",
      "inf norm of B 5.255797820558946\n",
      "Num of iter:  500\n",
      "Diverges\n",
      "\n"
     ]
    }
   ],
   "source": [
    "for i in range(1, 15):\n",
    "    print(\"Diag val: \", 15 - i)\n",
    "    N = A - np.diag([i]*n)\n",
    "    \n",
    "    diag = N.diagonal()\n",
    "    D = np.diag(diag)\n",
    "    D_inv = np.diag(1/diag)\n",
    "    B = D_inv @ (D - N)\n",
    "    print(\"2-norm of B\", np.linalg.norm(B, ord=2))\n",
    "    print(\"inf norm of B\", np.linalg.norm(B, ord=np.inf))\n",
    "    xx, niter = jacobi_iter(N, b, x0)\n",
    "    print(\"Num of iter: \", niter)\n",
    "    x_actual = np.linalg.solve(N, b)\n",
    "    \n",
    "    if np.linalg.norm(x_actual - xx) < 1e-5:\n",
    "        print(\"Converges\")\n",
    "    else:\n",
    "        print(\"Diverges\")\n",
    "    print(\"\")"
   ]
  },
  {
   "cell_type": "markdown",
   "metadata": {},
   "source": [
    "# Задание 4"
   ]
  },
  {
   "cell_type": "code",
   "execution_count": 15,
   "metadata": {},
   "outputs": [],
   "source": [
    "#4\n",
    "def newton_iteration(f, fder, x0, eps=1e-5, maxiter=100):\n",
    "    niter = 0\n",
    "    x = x0\n",
    "    for i in range(maxiter):\n",
    "        niter += 1\n",
    "        x1 = x\n",
    "        x = x1 - f(x1)/ fder(x1)\n",
    "        if abs(x - x1) <= eps:\n",
    "            break\n",
    "    return x, niter"
   ]
  },
  {
   "cell_type": "code",
   "execution_count": 16,
   "metadata": {},
   "outputs": [
    {
     "data": {
      "text/plain": [
       "(-0.5+0.8660254037844387j)"
      ]
     },
     "execution_count": 16,
     "metadata": {},
     "output_type": "execute_result"
    }
   ],
   "source": [
    "f = lambda x: x**3 - 1\n",
    "fder = lambda x: 3 * x**2\n",
    "xx, niter = newton_iteration(f, fder, 1j)\n",
    "xx"
   ]
  },
  {
   "cell_type": "code",
   "execution_count": 17,
   "metadata": {},
   "outputs": [],
   "source": [
    "# 3 корня\n",
    "r1 = 1.\n",
    "r2 = np.exp(2j*np.pi/3)\n",
    "r3 = np.exp(4j*np.pi/3)    "
   ]
  },
  {
   "cell_type": "code",
   "execution_count": 18,
   "metadata": {},
   "outputs": [],
   "source": [
    "def classify(x):\n",
    "    r = [1., np.exp(2j*np.pi/3), np.exp(4j*np.pi/3)]\n",
    "    for i in range(3):\n",
    "        if abs(x - r[i]) < 1e-5:\n",
    "            return i+1"
   ]
  },
  {
   "cell_type": "code",
   "execution_count": 19,
   "metadata": {},
   "outputs": [
    {
     "data": {
      "image/png": "[encoded data removed]",
      "text/plain": [
       "<Figure size 432x288 with 1 Axes>"
      ]
     },
     "metadata": {
      "needs_background": "light"
     },
     "output_type": "display_data"
    }
   ],
   "source": [
    "x = np.random.uniform(-1, 1, 250)\n",
    "y = np.random.uniform(-1, 1, 250)\n",
    "h = []\n",
    "points = []\n",
    "for i in range(len(x)):\n",
    "    for j in range(len(y)):\n",
    "        h.append(classify(newton_iteration(f, fder, complex(x[i], y[j]))[0]))\n",
    "        points.append([x[i], y[j]])\n",
    "c = []\n",
    "for i in h:\n",
    "    if i == 1:\n",
    "        c.append('g') #корень 1\n",
    "    elif i == 2:\n",
    "        c.append('b') #корень exp(2i*pi/3)\n",
    "    else:\n",
    "        c.append('r') #корень exp(4i*pi/3)\n",
    "p = np.array(points)\n",
    "plt.scatter(p[:, 0], p[:, 1], c=c)\n",
    "plt.show()"
   ]
  },
  {
   "cell_type": "markdown",
   "metadata": {},
   "source": [
    "# Задание 3"
   ]
  },
  {
   "cell_type": "code",
   "execution_count": 20,
   "metadata": {},
   "outputs": [],
   "source": [
    "#3\n",
    "nf = lambda x: 1 + np.exp(-3 * (x - 5)**2) #функция n\n",
    "n = 1000 # количество точек в сетке\n",
    "dx = 10. / n\n",
    "X = np.linspace(start=0, stop=10, num=n, dtype=float)\n",
    "phi = np.zeros(n)"
   ]
  },
  {
   "cell_type": "code",
   "execution_count": 21,
   "metadata": {},
   "outputs": [],
   "source": [
    "def G(X, phi, dx):\n",
    "    '''\n",
    "    Вектор-функция G,\n",
    "    где Gj = (phi_j+1 - 2*phi_j + phi_j-1) / dx^2 - exp(phi_j) + n(x_j)\n",
    "    -------------------------------------------------------\n",
    "    Input:\n",
    "    X: ndarray\n",
    "    Вектор значений х по сетке, где X[0] = 0, X[N] = 10\n",
    "    \n",
    "    phi: ndarray\n",
    "    Вектор из приближений вектора phi, где phi[i] = phi(X[i])\n",
    "    phi[0] = phi[N] = 0\n",
    "    \n",
    "    dx: float\n",
    "    Разница между соседними точками (X[i + 1] - X[i]) \n",
    "    '''\n",
    "    n = phi.shape[0] - 2\n",
    "    g = np.zeros(n)\n",
    "    for i in range(1, n + 1):\n",
    "        g[i - 1] = np.exp(phi[i]) - nf(X[i]) + (-phi[i+1] - phi[i-1] + 2*phi[i])/dx**2\n",
    "    return g\n",
    "\n",
    "def jacobi(phi, dx):\n",
    "    n = phi.shape[0] - 2\n",
    "    J = np.zeros((n, n))\n",
    "    for i in range(1, n - 1):\n",
    "        J[i, i - 1] = 1/dx**2\n",
    "        J[i, i] = -2/dx**2 - np.exp(phi[i + 1])\n",
    "        J[i, i + 1] = 1/dx**2\n",
    "    J[0][0] = -2/dx**2 - np.exp(phi[1])\n",
    "    J[0][1] = 1/dx**2\n",
    "    \n",
    "    J[n-1][n-2] = 1/dx**2\n",
    "    J[n-1][n - 1] = -2/dx**2 - np.exp(phi[n])\n",
    "    return J"
   ]
  },
  {
   "cell_type": "code",
   "execution_count": 22,
   "metadata": {},
   "outputs": [],
   "source": [
    "def newton(phi, eps=1e-5, maxiter=50):\n",
    "    n = phi.shape[0]\n",
    "    e = np.zeros(n-2)\n",
    "    niter = 0\n",
    "    for i in range(maxiter):\n",
    "        niter += 1\n",
    "        J = jacobi(phi, dx)\n",
    "        e = np.linalg.solve(J, G(X, phi, dx))\n",
    "        phi[1:n-1] = phi[1:n-1] + e\n",
    "        if np.linalg.norm(e) < eps:\n",
    "            break\n",
    "    return phi, niter"
   ]
  },
  {
   "cell_type": "code",
   "execution_count": 23,
   "metadata": {},
   "outputs": [
    {
     "data": {
      "text/plain": [
       "5"
      ]
     },
     "execution_count": 23,
     "metadata": {},
     "output_type": "execute_result"
    }
   ],
   "source": [
    "phi = np.zeros(n)\n",
    "new_phi, it = newton(phi, eps=1e-10)\n",
    "it"
   ]
  },
  {
   "cell_type": "code",
   "execution_count": 24,
   "metadata": {},
   "outputs": [
    {
     "data": {
      "text/plain": [
       "array([0.00000000e+00, 6.54348061e-05, 1.30876156e-04, 1.96330594e-04,\n",
       "       2.61804667e-04, 3.27304925e-04, 3.92837918e-04, 4.58410202e-04,\n",
       "       5.24028338e-04, 5.89698891e-04, 6.55428431e-04, 7.21223535e-04,\n",
       "       7.87090787e-04, 8.53036780e-04, 9.19068113e-04, 9.85191395e-04,\n",
       "       1.05141324e-03, 1.11774029e-03, 1.18417917e-03, 1.25073654e-03,\n",
       "       1.31741907e-03, 1.38423342e-03, 1.45118629e-03, 1.51828438e-03,\n",
       "       1.58553442e-03, 1.65294314e-03, 1.72051729e-03, 1.78826363e-03,\n",
       "       1.85618897e-03, 1.92430009e-03, 1.99260384e-03, 2.06110704e-03,\n",
       "       2.12981656e-03, 2.19873929e-03, 2.26788214e-03, 2.33725203e-03,\n",
       "       2.40685593e-03, 2.47670079e-03, 2.54679364e-03, 2.61714149e-03,\n",
       "       2.68775139e-03, 2.75863043e-03, 2.82978572e-03, 2.90122438e-03,\n",
       "       2.97295359e-03, 3.04498054e-03, 3.11731245e-03, 3.18995658e-03,\n",
       "       3.26292021e-03, 3.33621066e-03, 3.40983530e-03, 3.48380150e-03,\n",
       "       3.55811669e-03, 3.63278832e-03, 3.70782389e-03, 3.78323094e-03,\n",
       "       3.85901702e-03, 3.93518975e-03, 4.01175677e-03, 4.08872578e-03,\n",
       "       4.16610449e-03, 4.24390069e-03, 4.32212218e-03, 4.40077681e-03,\n",
       "       4.47987249e-03, 4.55941717e-03, 4.63941882e-03, 4.71988550e-03,\n",
       "       4.80082528e-03, 4.88224630e-03, 4.96415674e-03, 5.04656482e-03,\n",
       "       5.12947884e-03, 5.21290712e-03, 5.29685806e-03, 5.38134009e-03,\n",
       "       5.46636170e-03, 5.55193144e-03, 5.63805792e-03, 5.72474980e-03,\n",
       "       5.81201580e-03, 5.89986469e-03, 5.98830531e-03, 6.07734655e-03,\n",
       "       6.16699739e-03, 6.25726683e-03, 6.34816395e-03, 6.43969791e-03,\n",
       "       6.53187792e-03, 6.62471326e-03, 6.71821326e-03, 6.81238735e-03,\n",
       "       6.90724501e-03, 7.00279577e-03, 7.09904928e-03, 7.19601522e-03,\n",
       "       7.29370335e-03, 7.39212352e-03, 7.49128564e-03, 7.59119971e-03,\n",
       "       7.69187578e-03, 7.79332400e-03, 7.89555461e-03, 7.99857789e-03,\n",
       "       8.10240424e-03, 8.20704412e-03, 8.31250808e-03, 8.41880676e-03,\n",
       "       8.52595087e-03, 8.63395122e-03, 8.74281870e-03, 8.85256430e-03,\n",
       "       8.96319909e-03, 9.07473422e-03, 9.18718096e-03, 9.30055065e-03,\n",
       "       9.41485473e-03, 9.53010475e-03, 9.64631233e-03, 9.76348921e-03,\n",
       "       9.88164722e-03, 1.00007983e-02, 1.01209545e-02, 1.02421279e-02,\n",
       "       1.03643307e-02, 1.04875754e-02, 1.06118744e-02, 1.07372402e-02,\n",
       "       1.08636856e-02, 1.09912232e-02, 1.11198660e-02, 1.12496270e-02,\n",
       "       1.13805193e-02, 1.15125562e-02, 1.16457509e-02, 1.17801171e-02,\n",
       "       1.19156682e-02, 1.20524180e-02, 1.21903804e-02, 1.23295692e-02,\n",
       "       1.24699987e-02, 1.26116829e-02, 1.27546364e-02, 1.28988734e-02,\n",
       "       1.30444087e-02, 1.31912569e-02, 1.33394331e-02, 1.34889521e-02,\n",
       "       1.36398291e-02, 1.37920795e-02, 1.39457186e-02, 1.41007621e-02,\n",
       "       1.42572257e-02, 1.44151251e-02, 1.45744766e-02, 1.47352961e-02,\n",
       "       1.48976001e-02, 1.50614050e-02, 1.52267275e-02, 1.53935842e-02,\n",
       "       1.55619923e-02, 1.57319687e-02, 1.59035307e-02, 1.60766958e-02,\n",
       "       1.62514816e-02, 1.64279058e-02, 1.66059863e-02, 1.67857413e-02,\n",
       "       1.69671891e-02, 1.71503481e-02, 1.73352368e-02, 1.75218743e-02,\n",
       "       1.77102793e-02, 1.79004711e-02, 1.80924692e-02, 1.82862929e-02,\n",
       "       1.84819621e-02, 1.86794966e-02, 1.88789167e-02, 1.90802426e-02,\n",
       "       1.92834948e-02, 1.94886941e-02, 1.96958614e-02, 1.99050178e-02,\n",
       "       2.01161846e-02, 2.03293834e-02, 2.05446360e-02, 2.07619643e-02,\n",
       "       2.09813904e-02, 2.12029369e-02, 2.14266263e-02, 2.16524815e-02,\n",
       "       2.18805256e-02, 2.21107818e-02, 2.23432737e-02, 2.25780251e-02,\n",
       "       2.28150600e-02, 2.30544026e-02, 2.32960774e-02, 2.35401092e-02,\n",
       "       2.37865230e-02, 2.40353439e-02, 2.42865974e-02, 2.45403093e-02,\n",
       "       2.47965057e-02, 2.50552126e-02, 2.53164568e-02, 2.55802649e-02,\n",
       "       2.58466641e-02, 2.61156816e-02, 2.63873450e-02, 2.66616823e-02,\n",
       "       2.69387217e-02, 2.72184915e-02, 2.75010206e-02, 2.77863379e-02,\n",
       "       2.80744729e-02, 2.83654550e-02, 2.86593143e-02, 2.89560811e-02,\n",
       "       2.92557857e-02, 2.95584592e-02, 2.98641326e-02, 3.01728374e-02,\n",
       "       3.04846056e-02, 3.07994691e-02, 3.11174605e-02, 3.14386126e-02,\n",
       "       3.17629584e-02, 3.20905316e-02, 3.24213658e-02, 3.27554953e-02,\n",
       "       3.30929546e-02, 3.34337786e-02, 3.37780024e-02, 3.41256618e-02,\n",
       "       3.44767926e-02, 3.48314312e-02, 3.51896143e-02, 3.55513791e-02,\n",
       "       3.59167629e-02, 3.62858037e-02, 3.66585397e-02, 3.70350096e-02,\n",
       "       3.74152524e-02, 3.77993076e-02, 3.81872151e-02, 3.85790151e-02,\n",
       "       3.89747485e-02, 3.93744562e-02, 3.97781800e-02, 4.01859618e-02,\n",
       "       4.05978439e-02, 4.10138694e-02, 4.14340816e-02, 4.18585242e-02,\n",
       "       4.22872415e-02, 4.27202782e-02, 4.31576795e-02, 4.35994910e-02,\n",
       "       4.40457589e-02, 4.44965299e-02, 4.49518510e-02, 4.54117698e-02,\n",
       "       4.58763344e-02, 4.63455936e-02, 4.68195964e-02, 4.72983925e-02,\n",
       "       4.77820320e-02, 4.82705658e-02, 4.87640450e-02, 4.92625214e-02,\n",
       "       4.97660474e-02, 5.02746760e-02, 5.07884604e-02, 5.13074550e-02,\n",
       "       5.18317141e-02, 5.23612930e-02, 5.28962476e-02, 5.34366341e-02,\n",
       "       5.39825096e-02, 5.45339317e-02, 5.50909585e-02, 5.56536490e-02,\n",
       "       5.62220625e-02, 5.67962591e-02, 5.73762997e-02, 5.79622457e-02,\n",
       "       5.85541589e-02, 5.91521023e-02, 5.97561392e-02, 6.03663336e-02,\n",
       "       6.09827505e-02, 6.16054551e-02, 6.22345137e-02, 6.28699932e-02,\n",
       "       6.35119612e-02, 6.41604860e-02, 6.48156367e-02, 6.54774832e-02,\n",
       "       6.61460959e-02, 6.68215463e-02, 6.75039065e-02, 6.81932493e-02,\n",
       "       6.88896484e-02, 6.95931782e-02, 7.03039141e-02, 7.10219322e-02,\n",
       "       7.17473092e-02, 7.24801230e-02, 7.32204522e-02, 7.39683760e-02,\n",
       "       7.47239748e-02, 7.54873298e-02, 7.62585228e-02, 7.70376367e-02,\n",
       "       7.78247553e-02, 7.86199632e-02, 7.94233459e-02, 8.02349899e-02,\n",
       "       8.10549825e-02, 8.18834119e-02, 8.27203673e-02, 8.35659388e-02,\n",
       "       8.44202174e-02, 8.52832951e-02, 8.61552648e-02, 8.70362202e-02,\n",
       "       8.79262563e-02, 8.88254686e-02, 8.97339539e-02, 9.06518098e-02,\n",
       "       9.15791347e-02, 9.25160283e-02, 9.34625910e-02, 9.44189240e-02,\n",
       "       9.53851297e-02, 9.63613113e-02, 9.73475728e-02, 9.83440194e-02,\n",
       "       9.93507568e-02, 1.00367892e-01, 1.01395532e-01, 1.02433786e-01,\n",
       "       1.03482763e-01, 1.04542573e-01, 1.05613326e-01, 1.06695135e-01,\n",
       "       1.07788112e-01, 1.08892368e-01, 1.10008019e-01, 1.11135177e-01,\n",
       "       1.12273958e-01, 1.13424476e-01, 1.14586848e-01, 1.15761188e-01,\n",
       "       1.16947612e-01, 1.18146238e-01, 1.19357181e-01, 1.20580559e-01,\n",
       "       1.21816486e-01, 1.23065080e-01, 1.24326457e-01, 1.25600733e-01,\n",
       "       1.26888021e-01, 1.28188438e-01, 1.29502096e-01, 1.30829110e-01,\n",
       "       1.32169590e-01, 1.33523648e-01, 1.34891392e-01, 1.36272931e-01,\n",
       "       1.37668371e-01, 1.39077815e-01, 1.40501367e-01, 1.41939124e-01,\n",
       "       1.43391186e-01, 1.44857644e-01, 1.46338592e-01, 1.47834116e-01,\n",
       "       1.49344300e-01, 1.50869224e-01, 1.52408965e-01, 1.53963593e-01,\n",
       "       1.55533175e-01, 1.57117772e-01, 1.58717439e-01, 1.60332226e-01,\n",
       "       1.61962176e-01, 1.63607326e-01, 1.65267704e-01, 1.66943332e-01,\n",
       "       1.68634224e-01, 1.70340385e-01, 1.72061811e-01, 1.73798489e-01,\n",
       "       1.75550395e-01, 1.77317497e-01, 1.79099749e-01, 1.80897096e-01,\n",
       "       1.82709470e-01, 1.84536792e-01, 1.86378967e-01, 1.88235890e-01,\n",
       "       1.90107439e-01, 1.91993479e-01, 1.93893859e-01, 1.95808413e-01,\n",
       "       1.97736958e-01, 1.99679295e-01, 2.01635207e-01, 2.03604458e-01,\n",
       "       2.05586796e-01, 2.07581947e-01, 2.09589619e-01, 2.11609500e-01,\n",
       "       2.13641256e-01, 2.15684534e-01, 2.17738958e-01, 2.19804129e-01,\n",
       "       2.21879627e-01, 2.23965008e-01, 2.26059806e-01, 2.28163529e-01,\n",
       "       2.30275663e-01, 2.32395669e-01, 2.34522981e-01, 2.36657012e-01,\n",
       "       2.38797146e-01, 2.40942745e-01, 2.43093143e-01, 2.45247648e-01,\n",
       "       2.47405545e-01, 2.49566092e-01, 2.51728519e-01, 2.53892035e-01,\n",
       "       2.56055821e-01, 2.58219031e-01, 2.60380798e-01, 2.62540227e-01,\n",
       "       2.64696401e-01, 2.66848379e-01, 2.68995195e-01, 2.71135861e-01,\n",
       "       2.73269368e-01, 2.75394683e-01, 2.77510756e-01, 2.79616513e-01,\n",
       "       2.81710863e-01, 2.83792697e-01, 2.85860888e-01, 2.87914293e-01,\n",
       "       2.89951755e-01, 2.91972102e-01, 2.93974150e-01, 2.95956702e-01,\n",
       "       2.97918554e-01, 2.99858492e-01, 3.01775293e-01, 3.03667732e-01,\n",
       "       3.05534578e-01, 3.07374597e-01, 3.09186554e-01, 3.10969217e-01,\n",
       "       3.12721354e-01, 3.14441740e-01, 3.16129153e-01, 3.17782381e-01,\n",
       "       3.19400220e-01, 3.20981480e-01, 3.22524982e-01, 3.24029562e-01,\n",
       "       3.25494076e-01, 3.26917395e-01, 3.28298413e-01, 3.29636046e-01,\n",
       "       3.30929235e-01, 3.32176946e-01, 3.33378174e-01, 3.34531942e-01,\n",
       "       3.35637306e-01, 3.36693355e-01, 3.37699211e-01, 3.38654033e-01,\n",
       "       3.39557020e-01, 3.40407406e-01, 3.41204469e-01, 3.41947527e-01,\n",
       "       3.42635942e-01, 3.43269121e-01, 3.43846513e-01, 3.44367619e-01,\n",
       "       3.44831982e-01, 3.45239198e-01, 3.45588908e-01, 3.45880806e-01,\n",
       "       3.46114633e-01, 3.46290185e-01, 3.46407306e-01, 3.46465893e-01,\n",
       "       3.46465893e-01, 3.46407306e-01, 3.46290185e-01, 3.46114633e-01,\n",
       "       3.45880806e-01, 3.45588908e-01, 3.45239198e-01, 3.44831982e-01,\n",
       "       3.44367619e-01, 3.43846513e-01, 3.43269121e-01, 3.42635942e-01,\n",
       "       3.41947527e-01, 3.41204469e-01, 3.40407406e-01, 3.39557020e-01,\n",
       "       3.38654033e-01, 3.37699211e-01, 3.36693355e-01, 3.35637306e-01,\n",
       "       3.34531942e-01, 3.33378174e-01, 3.32176946e-01, 3.30929235e-01,\n",
       "       3.29636046e-01, 3.28298413e-01, 3.26917395e-01, 3.25494076e-01,\n",
       "       3.24029562e-01, 3.22524982e-01, 3.20981480e-01, 3.19400220e-01,\n",
       "       3.17782381e-01, 3.16129153e-01, 3.14441740e-01, 3.12721354e-01,\n",
       "       3.10969217e-01, 3.09186554e-01, 3.07374597e-01, 3.05534578e-01,\n",
       "       3.03667732e-01, 3.01775293e-01, 2.99858492e-01, 2.97918554e-01,\n",
       "       2.95956702e-01, 2.93974150e-01, 2.91972102e-01, 2.89951755e-01,\n",
       "       2.87914293e-01, 2.85860888e-01, 2.83792697e-01, 2.81710863e-01,\n",
       "       2.79616513e-01, 2.77510756e-01, 2.75394683e-01, 2.73269368e-01,\n",
       "       2.71135861e-01, 2.68995195e-01, 2.66848379e-01, 2.64696401e-01,\n",
       "       2.62540227e-01, 2.60380798e-01, 2.58219031e-01, 2.56055821e-01,\n",
       "       2.53892035e-01, 2.51728519e-01, 2.49566092e-01, 2.47405545e-01,\n",
       "       2.45247648e-01, 2.43093143e-01, 2.40942745e-01, 2.38797146e-01,\n",
       "       2.36657012e-01, 2.34522981e-01, 2.32395669e-01, 2.30275663e-01,\n",
       "       2.28163529e-01, 2.26059806e-01, 2.23965008e-01, 2.21879627e-01,\n",
       "       2.19804129e-01, 2.17738958e-01, 2.15684534e-01, 2.13641256e-01,\n",
       "       2.11609500e-01, 2.09589619e-01, 2.07581947e-01, 2.05586796e-01,\n",
       "       2.03604458e-01, 2.01635207e-01, 1.99679295e-01, 1.97736958e-01,\n",
       "       1.95808413e-01, 1.93893859e-01, 1.91993479e-01, 1.90107439e-01,\n",
       "       1.88235890e-01, 1.86378967e-01, 1.84536792e-01, 1.82709470e-01,\n",
       "       1.80897096e-01, 1.79099749e-01, 1.77317497e-01, 1.75550395e-01,\n",
       "       1.73798489e-01, 1.72061811e-01, 1.70340385e-01, 1.68634224e-01,\n",
       "       1.66943332e-01, 1.65267704e-01, 1.63607326e-01, 1.61962176e-01,\n",
       "       1.60332226e-01, 1.58717439e-01, 1.57117772e-01, 1.55533175e-01,\n",
       "       1.53963593e-01, 1.52408965e-01, 1.50869224e-01, 1.49344300e-01,\n",
       "       1.47834116e-01, 1.46338592e-01, 1.44857644e-01, 1.43391186e-01,\n",
       "       1.41939124e-01, 1.40501367e-01, 1.39077815e-01, 1.37668371e-01,\n",
       "       1.36272931e-01, 1.34891392e-01, 1.33523648e-01, 1.32169590e-01,\n",
       "       1.30829110e-01, 1.29502096e-01, 1.28188438e-01, 1.26888021e-01,\n",
       "       1.25600733e-01, 1.24326457e-01, 1.23065080e-01, 1.21816486e-01,\n",
       "       1.20580559e-01, 1.19357181e-01, 1.18146238e-01, 1.16947612e-01,\n",
       "       1.15761188e-01, 1.14586848e-01, 1.13424476e-01, 1.12273958e-01,\n",
       "       1.11135177e-01, 1.10008019e-01, 1.08892368e-01, 1.07788112e-01,\n",
       "       1.06695135e-01, 1.05613326e-01, 1.04542573e-01, 1.03482763e-01,\n",
       "       1.02433786e-01, 1.01395532e-01, 1.00367892e-01, 9.93507568e-02,\n",
       "       9.83440194e-02, 9.73475728e-02, 9.63613113e-02, 9.53851297e-02,\n",
       "       9.44189240e-02, 9.34625910e-02, 9.25160283e-02, 9.15791347e-02,\n",
       "       9.06518098e-02, 8.97339539e-02, 8.88254686e-02, 8.79262563e-02,\n",
       "       8.70362202e-02, 8.61552648e-02, 8.52832951e-02, 8.44202174e-02,\n",
       "       8.35659388e-02, 8.27203673e-02, 8.18834119e-02, 8.10549825e-02,\n",
       "       8.02349899e-02, 7.94233459e-02, 7.86199632e-02, 7.78247553e-02,\n",
       "       7.70376367e-02, 7.62585228e-02, 7.54873298e-02, 7.47239748e-02,\n",
       "       7.39683760e-02, 7.32204522e-02, 7.24801230e-02, 7.17473092e-02,\n",
       "       7.10219322e-02, 7.03039141e-02, 6.95931782e-02, 6.88896484e-02,\n",
       "       6.81932493e-02, 6.75039065e-02, 6.68215463e-02, 6.61460959e-02,\n",
       "       6.54774832e-02, 6.48156367e-02, 6.41604860e-02, 6.35119612e-02,\n",
       "       6.28699932e-02, 6.22345137e-02, 6.16054551e-02, 6.09827505e-02,\n",
       "       6.03663336e-02, 5.97561392e-02, 5.91521023e-02, 5.85541589e-02,\n",
       "       5.79622457e-02, 5.73762997e-02, 5.67962591e-02, 5.62220625e-02,\n",
       "       5.56536490e-02, 5.50909585e-02, 5.45339317e-02, 5.39825096e-02,\n",
       "       5.34366341e-02, 5.28962476e-02, 5.23612930e-02, 5.18317141e-02,\n",
       "       5.13074550e-02, 5.07884604e-02, 5.02746760e-02, 4.97660474e-02,\n",
       "       4.92625214e-02, 4.87640450e-02, 4.82705658e-02, 4.77820320e-02,\n",
       "       4.72983925e-02, 4.68195964e-02, 4.63455936e-02, 4.58763344e-02,\n",
       "       4.54117698e-02, 4.49518510e-02, 4.44965299e-02, 4.40457589e-02,\n",
       "       4.35994910e-02, 4.31576795e-02, 4.27202782e-02, 4.22872415e-02,\n",
       "       4.18585242e-02, 4.14340816e-02, 4.10138694e-02, 4.05978439e-02,\n",
       "       4.01859618e-02, 3.97781800e-02, 3.93744562e-02, 3.89747485e-02,\n",
       "       3.85790151e-02, 3.81872151e-02, 3.77993076e-02, 3.74152524e-02,\n",
       "       3.70350096e-02, 3.66585397e-02, 3.62858037e-02, 3.59167629e-02,\n",
       "       3.55513791e-02, 3.51896143e-02, 3.48314312e-02, 3.44767926e-02,\n",
       "       3.41256618e-02, 3.37780024e-02, 3.34337786e-02, 3.30929546e-02,\n",
       "       3.27554953e-02, 3.24213658e-02, 3.20905316e-02, 3.17629584e-02,\n",
       "       3.14386126e-02, 3.11174605e-02, 3.07994691e-02, 3.04846056e-02,\n",
       "       3.01728374e-02, 2.98641326e-02, 2.95584592e-02, 2.92557857e-02,\n",
       "       2.89560811e-02, 2.86593143e-02, 2.83654550e-02, 2.80744729e-02,\n",
       "       2.77863379e-02, 2.75010206e-02, 2.72184915e-02, 2.69387217e-02,\n",
       "       2.66616823e-02, 2.63873450e-02, 2.61156816e-02, 2.58466641e-02,\n",
       "       2.55802649e-02, 2.53164568e-02, 2.50552126e-02, 2.47965057e-02,\n",
       "       2.45403093e-02, 2.42865974e-02, 2.40353439e-02, 2.37865230e-02,\n",
       "       2.35401092e-02, 2.32960774e-02, 2.30544026e-02, 2.28150600e-02,\n",
       "       2.25780251e-02, 2.23432737e-02, 2.21107818e-02, 2.18805256e-02,\n",
       "       2.16524815e-02, 2.14266263e-02, 2.12029369e-02, 2.09813904e-02,\n",
       "       2.07619643e-02, 2.05446360e-02, 2.03293834e-02, 2.01161846e-02,\n",
       "       1.99050178e-02, 1.96958614e-02, 1.94886941e-02, 1.92834948e-02,\n",
       "       1.90802426e-02, 1.88789167e-02, 1.86794966e-02, 1.84819621e-02,\n",
       "       1.82862929e-02, 1.80924692e-02, 1.79004711e-02, 1.77102793e-02,\n",
       "       1.75218743e-02, 1.73352368e-02, 1.71503481e-02, 1.69671891e-02,\n",
       "       1.67857413e-02, 1.66059863e-02, 1.64279058e-02, 1.62514816e-02,\n",
       "       1.60766958e-02, 1.59035307e-02, 1.57319687e-02, 1.55619923e-02,\n",
       "       1.53935842e-02, 1.52267275e-02, 1.50614050e-02, 1.48976001e-02,\n",
       "       1.47352961e-02, 1.45744766e-02, 1.44151251e-02, 1.42572257e-02,\n",
       "       1.41007621e-02, 1.39457186e-02, 1.37920795e-02, 1.36398291e-02,\n",
       "       1.34889521e-02, 1.33394331e-02, 1.31912569e-02, 1.30444087e-02,\n",
       "       1.28988734e-02, 1.27546364e-02, 1.26116829e-02, 1.24699987e-02,\n",
       "       1.23295692e-02, 1.21903804e-02, 1.20524180e-02, 1.19156682e-02,\n",
       "       1.17801171e-02, 1.16457509e-02, 1.15125562e-02, 1.13805193e-02,\n",
       "       1.12496270e-02, 1.11198660e-02, 1.09912232e-02, 1.08636856e-02,\n",
       "       1.07372402e-02, 1.06118744e-02, 1.04875754e-02, 1.03643307e-02,\n",
       "       1.02421279e-02, 1.01209545e-02, 1.00007983e-02, 9.88164722e-03,\n",
       "       9.76348921e-03, 9.64631233e-03, 9.53010475e-03, 9.41485473e-03,\n",
       "       9.30055065e-03, 9.18718096e-03, 9.07473422e-03, 8.96319909e-03,\n",
       "       8.85256430e-03, 8.74281870e-03, 8.63395122e-03, 8.52595087e-03,\n",
       "       8.41880676e-03, 8.31250808e-03, 8.20704412e-03, 8.10240424e-03,\n",
       "       7.99857789e-03, 7.89555461e-03, 7.79332400e-03, 7.69187578e-03,\n",
       "       7.59119971e-03, 7.49128564e-03, 7.39212352e-03, 7.29370335e-03,\n",
       "       7.19601522e-03, 7.09904928e-03, 7.00279577e-03, 6.90724501e-03,\n",
       "       6.81238735e-03, 6.71821326e-03, 6.62471326e-03, 6.53187792e-03,\n",
       "       6.43969791e-03, 6.34816395e-03, 6.25726683e-03, 6.16699739e-03,\n",
       "       6.07734655e-03, 5.98830531e-03, 5.89986469e-03, 5.81201580e-03,\n",
       "       5.72474980e-03, 5.63805792e-03, 5.55193144e-03, 5.46636170e-03,\n",
       "       5.38134009e-03, 5.29685806e-03, 5.21290712e-03, 5.12947884e-03,\n",
       "       5.04656482e-03, 4.96415674e-03, 4.88224630e-03, 4.80082528e-03,\n",
       "       4.71988550e-03, 4.63941882e-03, 4.55941717e-03, 4.47987249e-03,\n",
       "       4.40077681e-03, 4.32212218e-03, 4.24390069e-03, 4.16610449e-03,\n",
       "       4.08872578e-03, 4.01175677e-03, 3.93518975e-03, 3.85901702e-03,\n",
       "       3.78323094e-03, 3.70782389e-03, 3.63278832e-03, 3.55811669e-03,\n",
       "       3.48380150e-03, 3.40983530e-03, 3.33621066e-03, 3.26292021e-03,\n",
       "       3.18995658e-03, 3.11731245e-03, 3.04498054e-03, 2.97295359e-03,\n",
       "       2.90122438e-03, 2.82978572e-03, 2.75863043e-03, 2.68775139e-03,\n",
       "       2.61714149e-03, 2.54679364e-03, 2.47670079e-03, 2.40685593e-03,\n",
       "       2.33725203e-03, 2.26788214e-03, 2.19873929e-03, 2.12981656e-03,\n",
       "       2.06110704e-03, 1.99260384e-03, 1.92430009e-03, 1.85618897e-03,\n",
       "       1.78826363e-03, 1.72051729e-03, 1.65294314e-03, 1.58553442e-03,\n",
       "       1.51828438e-03, 1.45118629e-03, 1.38423342e-03, 1.31741907e-03,\n",
       "       1.25073654e-03, 1.18417917e-03, 1.11774029e-03, 1.05141324e-03,\n",
       "       9.85191395e-04, 9.19068113e-04, 8.53036780e-04, 7.87090787e-04,\n",
       "       7.21223535e-04, 6.55428431e-04, 5.89698891e-04, 5.24028338e-04,\n",
       "       4.58410202e-04, 3.92837918e-04, 3.27304925e-04, 2.61804667e-04,\n",
       "       1.96330594e-04, 1.30876156e-04, 6.54348061e-05, 0.00000000e+00])"
      ]
     },
     "execution_count": 24,
     "metadata": {},
     "output_type": "execute_result"
    }
   ],
   "source": [
    "new_phi"
   ]
  },
  {
   "cell_type": "code",
   "execution_count": 25,
   "metadata": {},
   "outputs": [
    {
     "data": {
      "image/png": "[encoded data removed]",
      "text/plain": [
       "<Figure size 432x288 with 1 Axes>"
      ]
     },
     "metadata": {
      "needs_background": "light"
     },
     "output_type": "display_data"
    }
   ],
   "source": [
    "plt.plot(X, new_phi)\n",
    "plt.grid(True)\n",
    "plt.xlabel(\"Cетка\", fontsize=12)\n",
    "plt.ylabel(\"Значение $\\phi$\", fontsize=12)\n",
    "plt.show()"
   ]
  }
 ],
 "metadata": {
  "kernelspec": {
   "display_name": "Python 3",
   "language": "python",
   "name": "python3"
  },
  "language_info": {
   "codemirror_mode": {
    "name": "ipython",
    "version": 3
   },
   "file_extension": ".py",
   "mimetype": "text/x-python",
   "name": "python",
   "nbconvert_exporter": "python",
   "pygments_lexer": "ipython3",
   "version": "3.6.12"
  }
 },
 "nbformat": 4,
 "nbformat_minor": 4
}
