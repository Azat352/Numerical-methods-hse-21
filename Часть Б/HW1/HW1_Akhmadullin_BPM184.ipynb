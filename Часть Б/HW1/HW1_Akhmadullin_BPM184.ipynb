{
 "cells": [
  {
   "cell_type": "markdown",
   "metadata": {},
   "source": [
    "Ахмадуллин Азат БПМ184\n"
   ]
  },
  {
   "cell_type": "markdown",
   "metadata": {},
   "source": [
    "# 1\n",
    "\n",
    "i) $$I_n(\\alpha) = \\int_0^1 \\frac{x^n}{x + \\alpha}dx = \\int_0^1 \\frac{x^{n - 1}(x + \\alpha) - x^{n - 1}\\alpha}{x + \\alpha}dx = \\int_0^1 x^{n-1} dx - \\int_0^1 \\frac{x^{n - 1} \\alpha}{x + \\alpha} dx = \\frac{1}{n} x^n |_0^1 - \\alpha I_n = \\frac{1}{n} - \\alpha I_{n - 1}(\\alpha)$$\n",
    "\n",
    "Получим\n",
    "\n",
    "$$I_n(\\alpha) = \\frac{1}{n} - \\alpha I_{n - 1}(\\alpha)$$\n",
    "\n",
    "ii) $$I_0(\\alpha) = \\int_0^1 \\frac{1}{x + \\alpha} dx = \\ln{(x + \\alpha)}|_0^1 = \\ln{(\\alpha + 1)} - \\ln{(\\alpha)} = \\ln{(\\frac{\\alpha + 1}{\\alpha})} = \\ln{(1 + \\frac{1}{\\alpha})}$$"
   ]
  },
  {
   "cell_type": "code",
   "execution_count": 1,
   "metadata": {},
   "outputs": [],
   "source": [
    "import numpy as np\n",
    "def rec_up(n, alpha):\n",
    "    if n == 0:\n",
    "        return np.log(1 + 1/alpha)\n",
    "    else:\n",
    "        return 1/n - alpha * rec_up(n - 1, alpha)"
   ]
  },
  {
   "cell_type": "markdown",
   "metadata": {},
   "source": [
    "Прямая рекурсия:"
   ]
  },
  {
   "cell_type": "code",
   "execution_count": 2,
   "metadata": {},
   "outputs": [
    {
     "name": "stdout",
     "output_type": "stream",
     "text": [
      "I_25(0.1) = 0.03622697090911682\n",
      "I_25(10)  = -748346367.4013903\n"
     ]
    }
   ],
   "source": [
    "print(\"I_25(0.1) =\", rec_up(25, 0.1))\n",
    "print(\"I_25(10)  =\", rec_up(25, 10))"
   ]
  },
  {
   "cell_type": "markdown",
   "metadata": {},
   "source": [
    "$$I_{n - 1}(\\alpha) = \\frac{1}{\\alpha n} - \\frac{1}{\\alpha} I_n(\\alpha)$$"
   ]
  },
  {
   "cell_type": "code",
   "execution_count": 3,
   "metadata": {},
   "outputs": [],
   "source": [
    "def rec_down(n, alpha):\n",
    "    if n == N:\n",
    "        return 0\n",
    "    else:\n",
    "        return (1 / n - rec_down(n + 1, alpha)) / alpha"
   ]
  },
  {
   "cell_type": "code",
   "execution_count": 4,
   "metadata": {},
   "outputs": [
    {
     "name": "stdout",
     "output_type": "stream",
     "text": [
      "Результат для alpha = 10\n",
      "                                                up                                               down\n",
      "        0.095310179804325         0.095310179804325\n",
      "        0.046898201956751         0.046898201956751\n",
      "        0.031017980432493         0.031017980432486\n",
      "        0.023153529008398         0.023153529008473\n",
      "        0.018464709916015         0.018464709915267\n",
      "        0.015352900839845         0.015352900847329\n",
      "        0.013137658268212         0.013137658193377\n",
      "        0.011480560175024         0.011480560923370\n",
      "        0.010194398249764         0.010194390766300\n",
      "        0.009167128613475         0.009167203448111\n",
      "        0.008328713865254         0.008327965518886\n",
      "        0.007621952256554         0.007629435720228\n",
      "        0.007113810767796         0.007038976131052\n",
      "        0.005784969245117         0.006533315612559\n",
      "        0.013578878977397         0.006095415302983\n",
      "       -0.069122123107305         0.005712513636834\n",
      "        0.753721231073049         0.005374863631658\n",
      "       -7.478388781318721         0.005074893095180\n",
      "       74.839443368742764         0.004806624603752\n",
      "     -748.341802108480238         0.004565332909844\n",
      "     7483.468021084802785         0.004346670901562\n",
      "   -74834.632591800414957         0.004152338603426\n",
      "   748346.371372549561784         0.003931159420290\n",
      " -7483463.670247235335410         0.004166666666667\n",
      " 74834636.744139030575752         0.000000000000000\n"
     ]
    }
   ],
   "source": [
    "N = 25\n",
    "x1 = [0] * (N )\n",
    "for i in range(N - 1, 0, -1):\n",
    "    x1[i - 1] = rec_down(i, 10)\n",
    "x2 = [0] * N\n",
    "for i in range(N):\n",
    "    x2[i] = rec_up(i, 10)\n",
    "\n",
    "print(\"Результат для alpha = 10\")\n",
    "print('{:>50s} {:>50s}'.format(\"up\", \"down\"))\n",
    "for i in range(N):\n",
    "    print('{:25.15f} {:25.15f}'.format(x2[i], x1[i]))"
   ]
  },
  {
   "cell_type": "code",
   "execution_count": 5,
   "metadata": {},
   "outputs": [
    {
     "name": "stdout",
     "output_type": "stream",
     "text": [
      "Результат для alpha = 0.1\n",
      "                                                up                                               down\n",
      "                                 2.397895272798371           -37730290908831745572864.000000000000000\n",
      "                                 0.760210472720163             3773029090883174662144.000000000000000\n",
      "                                 0.423978952727984             -377302909088317505536.000000000000000\n",
      "                                 0.290935438060535               37730290908831752192.000000000000000\n",
      "                                 0.220906456193946               -3773029090883175424.000000000000000\n",
      "                                 0.177909354380605                 377302909088317568.000000000000000\n",
      "                                 0.148875731228606                 -37730290908831760.000000000000000\n",
      "                                 0.127969569734282                   3773029090883176.000000000000000\n",
      "                                 0.112203043026572                   -377302909088317.500000000000000\n",
      "                                 0.099890806808454                     37730290908831.859375000000000\n",
      "                                 0.090010919319155                     -3773029090883.086425781250000\n",
      "                                 0.081907998977175                       377302909088.399536132812500\n",
      "                                 0.075142533435616                       -37730290908.756622314453125\n",
      "                                 0.069408823579515                         3773029090.952585697174072\n",
      "                                 0.064487689070620                         -377302909.023829996585846\n",
      "                                 0.060217897759605                           37730290.969049669802189\n",
      "                                 0.056478210224040                           -3773029.034404967445880\n",
      "                                 0.053175708389361                             377302.962264026165940\n",
      "                                 0.050237984716619                             -37730.240670847066212\n",
      "                                 0.047607780475706                               3773.076698663654042\n",
      "                                 0.045239221952429                               -377.257669866365404\n",
      "                                 0.043095125423805                                 37.773386034255594\n",
      "                                 0.041145032912165                                 -3.731884057971014\n",
      "                                 0.039363757578349                                  0.416666666666667\n",
      "                                 0.037730290908832                                  0.000000000000000\n"
     ]
    }
   ],
   "source": [
    "N = 25\n",
    "x3 = [0] * (N)\n",
    "for i in range(N - 1, 0, -1):\n",
    "    x3[i - 1] = rec_down(i, 0.1)\n",
    "x4 = [0] * N\n",
    "for i in range(N):\n",
    "    x4[i] = rec_up(i, 0.1)\n",
    "\n",
    "print(\"Результат для alpha = 0.1\")\n",
    "print('{:>50s} {:>50s}'.format(\"up\", \"down\"))\n",
    "for i in range(N):\n",
    "    print('{:50.15f} {:50.15f}'.format(x4[i], x3[i]))"
   ]
  },
  {
   "cell_type": "markdown",
   "metadata": {},
   "source": [
    "Для альфа равного 10 прямая рекурсия плохо подходит, так как ошибка при вычислениях умножается на каждом шаге на альфу. При обратном подходе наоборот она гасится делением на альфу.\n",
    "\n",
    "Поэтому при альфе равной 10 лучше подходит прямая рекурсия, а при альфе равной 0.1 обратная."
   ]
  },
  {
   "cell_type": "markdown",
   "metadata": {},
   "source": [
    "# 4 \n",
    "\n",
    "$$\\sum_{k=1}^{3000} k^{-2} \\approx 1.6446$$\n",
    "\n",
    "Так происходит, потому что при больших k члены ряда становятся много меньше первых членов. При суммировании сначала, в дальнейшем с какого-то k члены могут перестать влиять на сумму, обрезаться.\n",
    "\n",
    "Более удачным способом суммирования является суммирование сначала маленьких членов, то есть с конца, для того, чтобы их сумма впоследствии стала сравнимой с большими по величине членами ряда."
   ]
  },
  {
   "cell_type": "code",
   "execution_count": 6,
   "metadata": {},
   "outputs": [],
   "source": [
    "import math\n",
    "\n",
    "def round_to_n(x, n):\n",
    "    if x == 0:\n",
    "        return x\n",
    "    else:\n",
    "        return round(x, -int(math.floor(math.log10(abs(x)))) + (n - 1))"
   ]
  },
  {
   "cell_type": "markdown",
   "metadata": {},
   "source": [
    "Прямой порядок суммирования"
   ]
  },
  {
   "cell_type": "code",
   "execution_count": 7,
   "metadata": {},
   "outputs": [
    {
     "name": "stdout",
     "output_type": "stream",
     "text": [
      "1.624\n"
     ]
    }
   ],
   "source": [
    "res_forward = 0\n",
    "for k in range(1, 3001):\n",
    "    res_forward = round_to_n(res_forward + 1/k**2, 4)\n",
    "print(res_forward)"
   ]
  },
  {
   "cell_type": "markdown",
   "metadata": {},
   "source": [
    "Обратный порядок"
   ]
  },
  {
   "cell_type": "code",
   "execution_count": 8,
   "metadata": {},
   "outputs": [
    {
     "name": "stdout",
     "output_type": "stream",
     "text": [
      "1.645\n"
     ]
    }
   ],
   "source": [
    "res = 0\n",
    "for k in range(3000 , 0, -1):\n",
    "    res = round_to_n(res + 1 / k**2, 4)\n",
    "print(res)"
   ]
  },
  {
   "cell_type": "markdown",
   "metadata": {},
   "source": [
    "После такого способа суммирования получили более точный ответ."
   ]
  },
  {
   "cell_type": "markdown",
   "metadata": {},
   "source": [
    "# 5\n",
    "\n",
    "$$F = G\\frac{M_1 M_2}{r^2}$$ \n",
    "\n",
    "$M_1 = 40 \\times 10^4 \\pm 0.05 \\times 10^4 kg$\n",
    "\n",
    "$M_2 = 30 \\times 10^4 \\pm 0.1 \\times 10^4 kg$\n",
    "\n",
    "$r = 3.2 \\pm 0.01 m$\n",
    "\n",
    "a) \n",
    "$$ F(M_1, M_2, r) = F(\\overline M_1, \\overline M_2, \\overline r) + F'_{M_1}(\\overline M_1, \\overline M_2, \\overline r)\n",
    "\\times \\varepsilon_1 + F'_{M_2}(\\overline M_1, \\overline M_2, \\overline r) \\times \\varepsilon_2 + F'_r(\\overline M_1, \\overline M_2, \\overline r) \\varepsilon_3 $$\n",
    "\n",
    "$$F'_{M_1} = \\frac{G M_2}{r^2}$$\n",
    "\n",
    "$$F'_{M_2} = \\frac{G M_1}{r^2}$$\n",
    "\n",
    "$$F'_r = G\\frac{-2 M_1 M_2}{r^3}$$\n",
    "\n",
    "Значение силы:\n",
    "\n",
    "$F(\\overline M_1, \\overline M_2, \\overline r) = G\\frac{40 \\cdot 30 \\times 10^8}{3.2^2} = G\\frac{1200 \\times 10^8}{10.24}$\n",
    "\n",
    "Погрешность:\n",
    "\n",
    "$\\Delta F = \\frac{G \\overline M_2}{\\overline r^2} \\cdot \\varepsilon_1  + \\frac{G \\overline M_1}{\\overline r^2} \\cdot \\varepsilon_2 + G\\frac{-2 \\overline M_1 \\overline M_2}{\\overline r^3} \\cdot \\varepsilon_3 = \\frac{G}{\\overline r^2}(\\overline M_2 \\cdot \\varepsilon_1 + \\overline M_1 \\cdot \\varepsilon_2 - \\frac{2 \\overline M_1 \\overline M_2}{\\overline r} \\cdot \\varepsilon_3) = \\frac{G}{10.24}(30 \\times 10^4 \\cdot 0.05 \\times 10^4 + 40 \\times 10^4 \\cdot 0.1 \\times 10^4 - \\frac{2 \\cdot 1200 \\times 10^8}{3.2} \\cdot 0.01) = \\frac{G}{10.24}(1.5 \\times 10^8 + 4 \\times 10^8 - 7.5 \\times 10^8) = -\\frac{2 G}{10.24} \\times 10^8 = $ \n",
    "\n",
    "$= -\\frac{G}{5.12} \\times 10^8$"
   ]
  },
  {
   "cell_type": "code",
   "execution_count": 9,
   "metadata": {},
   "outputs": [],
   "source": [
    "from scipy.constants import G\n",
    "\n",
    "m1 = 40 * 1e4\n",
    "eps1 = 0.05 * 1e4\n",
    "m2 = 30 * 1e4\n",
    "eps2 = 0.1 * 1e4\n",
    "r = 3.2\n",
    "eps3 = 0.01"
   ]
  },
  {
   "cell_type": "code",
   "execution_count": 10,
   "metadata": {},
   "outputs": [],
   "source": [
    "def F(m1, m2, r):\n",
    "    return G*m1*m2 / r**2"
   ]
  },
  {
   "cell_type": "code",
   "execution_count": 11,
   "metadata": {},
   "outputs": [
    {
     "data": {
      "text/plain": [
       "0.7821445312499998"
      ]
     },
     "execution_count": 11,
     "metadata": {},
     "output_type": "execute_result"
    }
   ],
   "source": [
    "F(m1, m2, r)"
   ]
  },
  {
   "cell_type": "code",
   "execution_count": 12,
   "metadata": {},
   "outputs": [
    {
     "data": {
      "text/plain": [
       "0.00130357421875"
      ]
     },
     "execution_count": 12,
     "metadata": {},
     "output_type": "execute_result"
    }
   ],
   "source": [
    "def dF_dM1(m2, r):\n",
    "    return G * m2 / r**2\n",
    "def dF_dM2(m1, r):\n",
    "    return G * m1 / r**2\n",
    "def dF_dR(m1, m2, r):\n",
    "    return -2*G*m1*m2 / r**3\n",
    "def delta_F(m1, m2, r, eps1, eps2, eps3):\n",
    "     return abs(dF_dM1(m2, r) * eps1 + dF_dM2(m1, r) * eps2 + dF_dR(m1, m2, r) * eps3)\n",
    "delta_F(m1, m2, r, eps1, eps2, eps3)"
   ]
  },
  {
   "cell_type": "code",
   "execution_count": 13,
   "metadata": {},
   "outputs": [],
   "source": [
    "#b\n",
    "from numpy.random import normal\n",
    "\n",
    "\n",
    "m1_vals = normal(m1, eps1, 10**5)\n",
    "m2_vals = normal(m2, eps2, 10**5)\n",
    "r_vals = normal(r, eps3, 10**5)\n",
    "F_vals = [F(m1_vals[i], m2_vals[i], r_vals[i]) for i in range(10**5)]"
   ]
  },
  {
   "cell_type": "markdown",
   "metadata": {},
   "source": [
    "$F \\sim N(F(\\overline M_1, \\overline M_2, \\overline r), F'^2_{M_1} \\cdot \\varepsilon_1^2 + F'^2_{M_2} \\cdot \\varepsilon_2^2 + F'^2_{r} \\cdot \\varepsilon_3^2)$"
   ]
  },
  {
   "cell_type": "code",
   "execution_count": 14,
   "metadata": {},
   "outputs": [
    {
     "data": {
      "image/png": "[encoded data removed]",
      "text/plain": [
       "<Figure size 432x288 with 1 Axes>"
      ]
     },
     "metadata": {
      "needs_background": "light"
     },
     "output_type": "display_data"
    }
   ],
   "source": [
    "#c\n",
    "import matplotlib.pyplot as plt\n",
    "import scipy.stats as stats\n",
    "import numpy as np\n",
    "from math import sqrt\n",
    "    \n",
    "F_mean = F(m1, m2, r)\n",
    "F_std = sqrt(dF_dM1(m2, r)**2 * eps1**2 + dF_dM2(m1, r)**2 * eps2**2  + dF_dR(m1, m2, r)**2 * eps3**2)\n",
    "x = np.linspace(min(F_vals), max(F_vals), 1000)\n",
    "y = stats.norm.pdf(x, F_mean, F_std)\n",
    "\n",
    "plt.plot(x, y)\n",
    "\n",
    "plt.hist(F_vals, 30, density = True)\n",
    "plt.show()"
   ]
  },
  {
   "cell_type": "markdown",
   "metadata": {},
   "source": [
    "Результаты получились согласованными. Получается, что можно хорошо лианеризовать функцию для таких погрешностей"
   ]
  },
  {
   "cell_type": "code",
   "execution_count": 15,
   "metadata": {},
   "outputs": [
    {
     "data": {
      "text/plain": [
       "0.7821445312499998"
      ]
     },
     "execution_count": 15,
     "metadata": {},
     "output_type": "execute_result"
    }
   ],
   "source": [
    "#d\n",
    "M1 = m1\n",
    "Eps1 = 2 * 1e4\n",
    "M2 = m2\n",
    "Eps2 = 10 * 1e4\n",
    "R = r\n",
    "Eps3 = 1.\n",
    "\n",
    "F(M1, M2, R)"
   ]
  },
  {
   "cell_type": "code",
   "execution_count": 16,
   "metadata": {},
   "outputs": [
    {
     "data": {
      "text/plain": [
       "0.1890182617187499"
      ]
     },
     "execution_count": 16,
     "metadata": {},
     "output_type": "execute_result"
    }
   ],
   "source": [
    "delta_F(M1, M2, R, Eps1, Eps2, Eps3)"
   ]
  },
  {
   "cell_type": "code",
   "execution_count": 17,
   "metadata": {},
   "outputs": [],
   "source": [
    "from numpy.random import normal\n",
    "\n",
    "\n",
    "M1_vals = normal(M1, Eps1, 10**5)\n",
    "M2_vals = normal(M2, Eps2, 10**5)\n",
    "R_vals = normal(R, Eps3, 10**5)\n",
    "F1_vals = [F(M1_vals[i], M2_vals[i], R_vals[i]) for i in range(10**5)]"
   ]
  },
  {
   "cell_type": "code",
   "execution_count": 20,
   "metadata": {},
   "outputs": [
    {
     "data": {
      "text/plain": [
       "(array([9.9997e+04, 0.0000e+00, 1.0000e+00, 0.0000e+00, 0.0000e+00,\n",
       "        0.0000e+00, 0.0000e+00, 0.0000e+00, 0.0000e+00, 0.0000e+00,\n",
       "        0.0000e+00, 0.0000e+00, 0.0000e+00, 0.0000e+00, 0.0000e+00,\n",
       "        0.0000e+00, 0.0000e+00, 0.0000e+00, 0.0000e+00, 0.0000e+00,\n",
       "        0.0000e+00, 0.0000e+00, 0.0000e+00, 0.0000e+00, 0.0000e+00,\n",
       "        0.0000e+00, 0.0000e+00, 0.0000e+00, 0.0000e+00, 0.0000e+00,\n",
       "        0.0000e+00, 0.0000e+00, 0.0000e+00, 0.0000e+00, 0.0000e+00,\n",
       "        0.0000e+00, 0.0000e+00, 0.0000e+00, 1.0000e+00, 0.0000e+00,\n",
       "        0.0000e+00, 0.0000e+00, 0.0000e+00, 0.0000e+00, 0.0000e+00,\n",
       "        0.0000e+00, 0.0000e+00, 0.0000e+00, 0.0000e+00, 0.0000e+00,\n",
       "        0.0000e+00, 0.0000e+00, 0.0000e+00, 0.0000e+00, 0.0000e+00,\n",
       "        0.0000e+00, 0.0000e+00, 0.0000e+00, 0.0000e+00, 0.0000e+00,\n",
       "        0.0000e+00, 0.0000e+00, 0.0000e+00, 0.0000e+00, 0.0000e+00,\n",
       "        0.0000e+00, 0.0000e+00, 0.0000e+00, 0.0000e+00, 0.0000e+00,\n",
       "        0.0000e+00, 0.0000e+00, 0.0000e+00, 0.0000e+00, 0.0000e+00,\n",
       "        0.0000e+00, 0.0000e+00, 0.0000e+00, 0.0000e+00, 0.0000e+00,\n",
       "        0.0000e+00, 0.0000e+00, 0.0000e+00, 0.0000e+00, 0.0000e+00,\n",
       "        0.0000e+00, 0.0000e+00, 0.0000e+00, 0.0000e+00, 0.0000e+00,\n",
       "        0.0000e+00, 0.0000e+00, 0.0000e+00, 0.0000e+00, 0.0000e+00,\n",
       "        0.0000e+00, 0.0000e+00, 0.0000e+00, 0.0000e+00, 1.0000e+00]),\n",
       " array([-6.41503692e+01,  7.71116698e+05,  1.54229755e+06,  2.31347839e+06,\n",
       "         3.08465924e+06,  3.85584009e+06,  4.62702094e+06,  5.39820179e+06,\n",
       "         6.16938263e+06,  6.94056348e+06,  7.71174433e+06,  8.48292518e+06,\n",
       "         9.25410603e+06,  1.00252869e+07,  1.07964677e+07,  1.15676486e+07,\n",
       "         1.23388294e+07,  1.31100103e+07,  1.38811911e+07,  1.46523720e+07,\n",
       "         1.54235528e+07,  1.61947337e+07,  1.69659145e+07,  1.77370954e+07,\n",
       "         1.85082762e+07,  1.92794571e+07,  2.00506379e+07,  2.08218187e+07,\n",
       "         2.15929996e+07,  2.23641804e+07,  2.31353613e+07,  2.39065421e+07,\n",
       "         2.46777230e+07,  2.54489038e+07,  2.62200847e+07,  2.69912655e+07,\n",
       "         2.77624464e+07,  2.85336272e+07,  2.93048081e+07,  3.00759889e+07,\n",
       "         3.08471698e+07,  3.16183506e+07,  3.23895315e+07,  3.31607123e+07,\n",
       "         3.39318932e+07,  3.47030740e+07,  3.54742549e+07,  3.62454357e+07,\n",
       "         3.70166166e+07,  3.77877974e+07,  3.85589783e+07,  3.93301591e+07,\n",
       "         4.01013399e+07,  4.08725208e+07,  4.16437016e+07,  4.24148825e+07,\n",
       "         4.31860633e+07,  4.39572442e+07,  4.47284250e+07,  4.54996059e+07,\n",
       "         4.62707867e+07,  4.70419676e+07,  4.78131484e+07,  4.85843293e+07,\n",
       "         4.93555101e+07,  5.01266910e+07,  5.08978718e+07,  5.16690527e+07,\n",
       "         5.24402335e+07,  5.32114144e+07,  5.39825952e+07,  5.47537761e+07,\n",
       "         5.55249569e+07,  5.62961378e+07,  5.70673186e+07,  5.78384995e+07,\n",
       "         5.86096803e+07,  5.93808612e+07,  6.01520420e+07,  6.09232228e+07,\n",
       "         6.16944037e+07,  6.24655845e+07,  6.32367654e+07,  6.40079462e+07,\n",
       "         6.47791271e+07,  6.55503079e+07,  6.63214888e+07,  6.70926696e+07,\n",
       "         6.78638505e+07,  6.86350313e+07,  6.94062122e+07,  7.01773930e+07,\n",
       "         7.09485739e+07,  7.17197547e+07,  7.24909356e+07,  7.32621164e+07,\n",
       "         7.40332973e+07,  7.48044781e+07,  7.55756590e+07,  7.63468398e+07,\n",
       "         7.71180207e+07]),\n",
       " <a list of 100 Patch objects>)"
      ]
     },
     "execution_count": 20,
     "metadata": {},
     "output_type": "execute_result"
    },
    {
     "data": {
      "image/png": "[encoded data removed]",
      "text/plain": [
       "<Figure size 432x288 with 1 Axes>"
      ]
     },
     "metadata": {
      "needs_background": "light"
     },
     "output_type": "display_data"
    }
   ],
   "source": [
    "plt.hist(F1_vals, 100, density = False, color='blue')"
   ]
  },
  {
   "cell_type": "code",
   "execution_count": 19,
   "metadata": {},
   "outputs": [
    {
     "data": {
      "image/png": "[encoded data removed]",
      "text/plain": [
       "<Figure size 432x288 with 1 Axes>"
      ]
     },
     "metadata": {
      "needs_background": "light"
     },
     "output_type": "display_data"
    }
   ],
   "source": [
    "F1_mean = F(M1, M2, R)\n",
    "F1_std = sqrt(dF_dM1(M2, R)**2 * Eps1**2 + dF_dM2(M1, R)**2 * Eps2**2 + dF_dR(M1, M2, R)**2 * Eps3**2)\n",
    "X = np.linspace(0, 2, 100)\n",
    "Y = stats.norm.pdf(X, F1_mean, F1_std)\n",
    "\n",
    "plt.plot(X, Y, color = 'green')\n",
    "\n",
    "plt.show()"
   ]
  },
  {
   "cell_type": "markdown",
   "metadata": {},
   "source": [
    "Для данных погрешностей недостаточно первого порядка приближения, такие данные невозможно представить суммой нормальных распределений."
   ]
  },
  {
   "cell_type": "code",
   "execution_count": null,
   "metadata": {},
   "outputs": [],
   "source": []
  }
 ],
 "metadata": {
  "kernelspec": {
   "display_name": "Python 3",
   "language": "python",
   "name": "python3"
  },
  "language_info": {
   "codemirror_mode": {
    "name": "ipython",
    "version": 3
   },
   "file_extension": ".py",
   "mimetype": "text/x-python",
   "name": "python",
   "nbconvert_exporter": "python",
   "pygments_lexer": "ipython3",
   "version": "3.6.12"
  }
 },
 "nbformat": 4,
 "nbformat_minor": 4
}
